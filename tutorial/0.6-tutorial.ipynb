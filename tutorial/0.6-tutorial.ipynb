{
 "cells": [
  {
   "cell_type": "code",
   "execution_count": 1,
   "metadata": {},
   "outputs": [],
   "source": [
    "import cv2 as cv\n",
    "import numpy as np"
   ]
  },
  {
   "cell_type": "code",
   "execution_count": 2,
   "metadata": {},
   "outputs": [],
   "source": [
    "A = np.array([\n",
    "    [0, 0, 0, 0, 1, 1, 1, 1],\n",
    "    [0, 0, 1, 1, 1, 1, 1, 1],\n",
    "    [0, 0, 1, 1, 1, 1, 1, 1],\n",
    "    [0, 0, 1, 1, 1, 1, 1, 1],\n",
    "    [0, 0, 0, 0, 0, 1, 1, 1],\n",
    "    [0, 0, 0, 0, 0, 0, 1, 1],\n",
    "    [0, 0, 0, 0, 0, 0, 0, 0],\n",
    "    [0, 0, 0, 0, 0, 0, 0, 0],\n",
    "], dtype='uint8')\n"
   ]
  },
  {
   "cell_type": "code",
   "execution_count": 3,
   "metadata": {},
   "outputs": [],
   "source": [
    "B = cv.resize(A.astype('float32'), dsize=(12, 12)).astype('uint8')\n"
   ]
  },
  {
   "cell_type": "code",
   "execution_count": 4,
   "metadata": {},
   "outputs": [
    {
     "name": "stdout",
     "output_type": "stream",
     "text": [
      "[[0 0 0 0 1 1 1 1]\n",
      " [0 0 1 1 1 1 1 1]\n",
      " [0 0 1 1 1 1 1 1]\n",
      " [0 0 1 1 1 1 1 1]\n",
      " [0 0 0 0 0 1 1 1]\n",
      " [0 0 0 0 0 0 1 1]\n",
      " [0 0 0 0 0 0 0 0]\n",
      " [0 0 0 0 0 0 0 0]]\n",
      "[[0 0 0 0 0 0 0 1 1 1 1 1]\n",
      " [0 0 0 0 0 0 0 1 1 1 1 1]\n",
      " [0 0 0 0 1 1 1 1 1 1 1 1]\n",
      " [0 0 0 0 1 1 1 1 1 1 1 1]\n",
      " [0 0 0 0 1 1 1 1 1 1 1 1]\n",
      " [0 0 0 0 0 0 0 0 1 1 1 1]\n",
      " [0 0 0 0 0 0 0 0 1 1 1 1]\n",
      " [0 0 0 0 0 0 0 0 0 0 1 1]\n",
      " [0 0 0 0 0 0 0 0 0 0 0 0]\n",
      " [0 0 0 0 0 0 0 0 0 0 0 0]\n",
      " [0 0 0 0 0 0 0 0 0 0 0 0]\n",
      " [0 0 0 0 0 0 0 0 0 0 0 0]]\n"
     ]
    }
   ],
   "source": [
    "print(A)\n",
    "print(B)"
   ]
  },
  {
   "cell_type": "code",
   "execution_count": 5,
   "metadata": {},
   "outputs": [],
   "source": [
    "def rotate(image, angle, center = None, scale = 1.0):\n",
    "    (h, w) = image.shape[:2]\n",
    "\n",
    "    if center is None:\n",
    "        center = (w / 2, h / 2)\n",
    "\n",
    "    # Perform the rotation\n",
    "    M = cv.getRotationMatrix2D(center, angle, scale)\n",
    "    rotated = cv.warpAffine(image, M, (w, h))\n",
    "\n",
    "    return rotated"
   ]
  },
  {
   "cell_type": "code",
   "execution_count": 6,
   "metadata": {},
   "outputs": [],
   "source": [
    "C = rotate(A, 45)\n"
   ]
  },
  {
   "cell_type": "code",
   "execution_count": 7,
   "metadata": {},
   "outputs": [
    {
     "name": "stdout",
     "output_type": "stream",
     "text": [
      "[[0 0 0 0 1 1 1 1]\n",
      " [0 0 1 1 1 1 1 1]\n",
      " [0 0 1 1 1 1 1 1]\n",
      " [0 0 1 1 1 1 1 1]\n",
      " [0 0 0 0 0 1 1 1]\n",
      " [0 0 0 0 0 0 1 1]\n",
      " [0 0 0 0 0 0 0 0]\n",
      " [0 0 0 0 0 0 0 0]]\n",
      "[[0 0 1 1 1 0 0 0]\n",
      " [0 1 1 1 1 1 0 0]\n",
      " [0 1 1 1 1 1 1 0]\n",
      " [0 1 1 1 1 1 1 1]\n",
      " [0 1 1 1 0 0 0 0]\n",
      " [0 0 1 0 0 0 0 0]\n",
      " [0 0 0 0 0 0 0 0]\n",
      " [0 0 0 0 0 0 0 0]]\n"
     ]
    }
   ],
   "source": [
    "print(A)\n",
    "print(C)"
   ]
  },
  {
   "cell_type": "code",
   "execution_count": 8,
   "metadata": {},
   "outputs": [],
   "source": [
    "def translation(image, x, y):\n",
    "    T = np.float32([[1, 0, x], [0, 1, y]])\n",
    "    return cv.warpAffine(image, T, image.shape)\n"
   ]
  },
  {
   "cell_type": "code",
   "execution_count": 9,
   "metadata": {},
   "outputs": [],
   "source": [
    "D = translation(A, 0, 2)\n"
   ]
  },
  {
   "cell_type": "code",
   "execution_count": 10,
   "metadata": {},
   "outputs": [
    {
     "name": "stdout",
     "output_type": "stream",
     "text": [
      "[[0 0 0 0 1 1 1 1]\n",
      " [0 0 1 1 1 1 1 1]\n",
      " [0 0 1 1 1 1 1 1]\n",
      " [0 0 1 1 1 1 1 1]\n",
      " [0 0 0 0 0 1 1 1]\n",
      " [0 0 0 0 0 0 1 1]\n",
      " [0 0 0 0 0 0 0 0]\n",
      " [0 0 0 0 0 0 0 0]]\n",
      "[[0 0 0 0 0 0 0 0]\n",
      " [0 0 0 0 0 0 0 0]\n",
      " [0 0 0 0 1 1 1 1]\n",
      " [0 0 1 1 1 1 1 1]\n",
      " [0 0 1 1 1 1 1 1]\n",
      " [0 0 1 1 1 1 1 1]\n",
      " [0 0 0 0 0 1 1 1]\n",
      " [0 0 0 0 0 0 1 1]]\n"
     ]
    }
   ],
   "source": [
    "print(A)\n",
    "print(D)"
   ]
  },
  {
   "cell_type": "code",
   "execution_count": 11,
   "metadata": {},
   "outputs": [],
   "source": [
    "img = np.array([\n",
    "    [21, 21, 21, 95, 169, 243, 243, 243],\n",
    "    [21, 21, 21, 95, 169, 243, 243, 243],\n",
    "    [21, 21, 21, 95, 169, 243, 243, 243],\n",
    "    [21, 21, 21, 95, 169, 243, 243, 243],\n",
    "])\n"
   ]
  },
  {
   "cell_type": "code",
   "execution_count": 12,
   "metadata": {},
   "outputs": [],
   "source": [
    "n = img.size\n",
    "pi = np.array([12/n, 4/n, 4/n, 12/n])\n"
   ]
  },
  {
   "cell_type": "code",
   "execution_count": 13,
   "metadata": {},
   "outputs": [
    {
     "data": {
      "text/plain": [
       "1.811278124459133"
      ]
     },
     "execution_count": 13,
     "metadata": {},
     "output_type": "execute_result"
    }
   ],
   "source": [
    "E = -np.sum(pi * np.log2(pi))\n",
    "E"
   ]
  }
 ],
 "metadata": {
  "kernelspec": {
   "display_name": "Python 3.10.4 ('.venv': venv)",
   "language": "python",
   "name": "python3"
  },
  "language_info": {
   "codemirror_mode": {
    "name": "ipython",
    "version": 3
   },
   "file_extension": ".py",
   "mimetype": "text/x-python",
   "name": "python",
   "nbconvert_exporter": "python",
   "pygments_lexer": "ipython3",
   "version": "3.10.4"
  },
  "orig_nbformat": 4,
  "vscode": {
   "interpreter": {
    "hash": "2ff110b5542103c27efd56d27dab24b895749022f4da05e5ac0c9d32269c57a0"
   }
  }
 },
 "nbformat": 4,
 "nbformat_minor": 2
}
