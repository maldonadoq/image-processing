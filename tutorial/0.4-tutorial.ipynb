{
 "cells": [
  {
   "cell_type": "code",
   "execution_count": 18,
   "metadata": {},
   "outputs": [],
   "source": [
    "import math\n",
    "import sys"
   ]
  },
  {
   "cell_type": "code",
   "execution_count": 19,
   "metadata": {},
   "outputs": [],
   "source": [
    "class HuffmanCode:\n",
    "    def __init__(self, probability):\n",
    "        self.probability = probability\n",
    "\n",
    "    def position(self, value, index):\n",
    "        for j in range(len(self.probability)):\n",
    "            if(value >= self.probability[j]):\n",
    "                return j\n",
    "        return index-1\n",
    "\n",
    "    def compute_code(self):\n",
    "        num = len(self.probability)\n",
    "        huffman_code = ['']*num\n",
    "\n",
    "        for i in range(num-2):\n",
    "            val = self.probability[num-i-1] + self.probability[num-i-2]\n",
    "            if(huffman_code[num-i-1] != '' and huffman_code[num-i-2] != ''):\n",
    "                huffman_code[-1] = ['1' +\n",
    "                                    symbol for symbol in huffman_code[-1]]\n",
    "                huffman_code[-2] = ['0' +\n",
    "                                    symbol for symbol in huffman_code[-2]]\n",
    "            elif(huffman_code[num-i-1] != ''):\n",
    "                huffman_code[num-i-2] = '0'\n",
    "                huffman_code[-1] = ['1' +\n",
    "                                    symbol for symbol in huffman_code[-1]]\n",
    "            elif(huffman_code[num-i-2] != ''):\n",
    "                huffman_code[num-i-1] = '1'\n",
    "                huffman_code[-2] = ['0' +\n",
    "                                    symbol for symbol in huffman_code[-2]]\n",
    "            else:\n",
    "                huffman_code[num-i-1] = '1'\n",
    "                huffman_code[num-i-2] = '0'\n",
    "\n",
    "            position = self.position(val, i)\n",
    "            probability = self.probability[0:(len(self.probability) - 2)]\n",
    "            probability.insert(position, val)\n",
    "            if(isinstance(huffman_code[num-i-2], list) and isinstance(huffman_code[num-i-1], list)):\n",
    "                complete_code = huffman_code[num-i-1] + huffman_code[num-i-2]\n",
    "            elif(isinstance(huffman_code[num-i-2], list)):\n",
    "                complete_code = huffman_code[num-i-2] + [huffman_code[num-i-1]]\n",
    "            elif(isinstance(huffman_code[num-i-1], list)):\n",
    "                complete_code = huffman_code[num-i-1] + [huffman_code[num-i-2]]\n",
    "            else:\n",
    "                complete_code = [huffman_code[num-i-2], huffman_code[num-i-1]]\n",
    "\n",
    "            huffman_code = huffman_code[0:(len(huffman_code)-2)]\n",
    "            huffman_code.insert(position, complete_code)\n",
    "\n",
    "        huffman_code[0] = ['0' + symbol for symbol in huffman_code[0]]\n",
    "        huffman_code[1] = ['1' + symbol for symbol in huffman_code[1]]\n",
    "\n",
    "        if(len(huffman_code[1]) == 0):\n",
    "            huffman_code[1] = '1'\n",
    "\n",
    "        count = 0\n",
    "        final_code = ['']*num\n",
    "\n",
    "        for i in range(2):\n",
    "            for j in range(len(huffman_code[i])):\n",
    "                final_code[count] = huffman_code[i][j]\n",
    "                count += 1\n",
    "\n",
    "        final_code = sorted(final_code, key=len)\n",
    "        return final_code\n"
   ]
  },
  {
   "cell_type": "code",
   "execution_count": 20,
   "metadata": {},
   "outputs": [],
   "source": [
    "probabilities = []\n",
    "string = \"Enter the string to compute Huffman Code\""
   ]
  },
  {
   "cell_type": "code",
   "execution_count": 21,
   "metadata": {},
   "outputs": [],
   "source": [
    "freq = {}\n",
    "for c in string:\n",
    "    if c in freq:\n",
    "        freq[c] += 1\n",
    "    else:\n",
    "        freq[c] = 1\n",
    "\n",
    "freq = sorted(freq.items(), key=lambda x: x[1], reverse=True)\n",
    "length = len(string)"
   ]
  },
  {
   "cell_type": "code",
   "execution_count": 22,
   "metadata": {},
   "outputs": [
    {
     "name": "stdout",
     "output_type": "stream",
     "text": [
      " Char | Huffman code \n",
      "----------------------\n",
      " ' '  |          00\n",
      " 't'  |          11\n",
      " 'e'  |         101\n",
      " 'n'  |        0110\n",
      " 'o'  |        0101\n",
      " 'r'  |       10011\n",
      " 'm'  |      011110\n",
      " 'u'  |      011111\n",
      " 'f'  |      011100\n",
      " 'E'  |      011101\n",
      " 'h'  |      010010\n",
      " 's'  |      010011\n",
      " 'i'  |      010000\n",
      " 'g'  |      010001\n",
      " 'c'  |      100100\n",
      " 'p'  |      100101\n",
      " 'H'  |      100010\n",
      " 'a'  |      100011\n",
      " 'C'  |      100000\n",
      " 'd'  |      100001\n"
     ]
    }
   ],
   "source": [
    "probabilities = [float(\"{:.2f}\".format(frequency[1]/length)) for frequency in freq]\n",
    "probabilities = sorted(probabilities, reverse=True)\n",
    "\n",
    "huffmanClassObject = HuffmanCode(probabilities)\n",
    "P = probabilities\n",
    "\n",
    "huffman_code = huffmanClassObject.compute_code()\n",
    "\n",
    "print(' Char | Huffman code ')\n",
    "print('----------------------')\n",
    "\n",
    "for id,char in enumerate(freq):\n",
    "    if huffman_code[id]=='':\n",
    "        print(' %-4r |%12s' % (char[0], 1))\n",
    "        continue\n",
    "    print(' %-4r |%12s' % (char[0], huffman_code[id]))\n"
   ]
  }
 ],
 "metadata": {
  "interpreter": {
   "hash": "8f026080efb2241e9bb1d83cd9b7378894cc07ca5791a3ecb7e0c716e7079b3c"
  },
  "kernelspec": {
   "display_name": "Python 3.9.7 ('.env': venv)",
   "language": "python",
   "name": "python3"
  },
  "language_info": {
   "codemirror_mode": {
    "name": "ipython",
    "version": 3
   },
   "file_extension": ".py",
   "mimetype": "text/x-python",
   "name": "python",
   "nbconvert_exporter": "python",
   "pygments_lexer": "ipython3",
   "version": "3.9.7"
  },
  "orig_nbformat": 4
 },
 "nbformat": 4,
 "nbformat_minor": 2
}
