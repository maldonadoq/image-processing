{
 "cells": [
  {
   "cell_type": "code",
   "execution_count": 1,
   "metadata": {},
   "outputs": [],
   "source": [
    "import numpy as np"
   ]
  },
  {
   "cell_type": "markdown",
   "metadata": {},
   "source": [
    "1. Initialize a 2D array $M5×10$ with value 7."
   ]
  },
  {
   "cell_type": "code",
   "execution_count": 2,
   "metadata": {},
   "outputs": [
    {
     "data": {
      "text/plain": [
       "array([[7., 7., 7., 7., 7., 7., 7., 7., 7., 7.],\n",
       "       [7., 7., 7., 7., 7., 7., 7., 7., 7., 7.],\n",
       "       [7., 7., 7., 7., 7., 7., 7., 7., 7., 7.],\n",
       "       [7., 7., 7., 7., 7., 7., 7., 7., 7., 7.],\n",
       "       [7., 7., 7., 7., 7., 7., 7., 7., 7., 7.]])"
      ]
     },
     "execution_count": 2,
     "metadata": {},
     "output_type": "execute_result"
    }
   ],
   "source": [
    "M = np.empty([5,10])\n",
    "\n",
    "for i in range(5):\n",
    "    for j in range(10):\n",
    "        M[i,j] = 7\n",
    "M"
   ]
  },
  {
   "cell_type": "code",
   "execution_count": 3,
   "metadata": {},
   "outputs": [
    {
     "data": {
      "text/plain": [
       "array([[7, 7, 7, 7, 7, 7, 7, 7, 7, 7],\n",
       "       [7, 7, 7, 7, 7, 7, 7, 7, 7, 7],\n",
       "       [7, 7, 7, 7, 7, 7, 7, 7, 7, 7],\n",
       "       [7, 7, 7, 7, 7, 7, 7, 7, 7, 7],\n",
       "       [7, 7, 7, 7, 7, 7, 7, 7, 7, 7]])"
      ]
     },
     "execution_count": 3,
     "metadata": {},
     "output_type": "execute_result"
    }
   ],
   "source": [
    "M = np.full([5,10],7)\n",
    "M"
   ]
  },
  {
   "cell_type": "code",
   "execution_count": 4,
   "metadata": {},
   "outputs": [
    {
     "data": {
      "text/plain": [
       "array([[7., 7., 7., 7., 7., 7., 7., 7., 7., 7.],\n",
       "       [7., 7., 7., 7., 7., 7., 7., 7., 7., 7.],\n",
       "       [7., 7., 7., 7., 7., 7., 7., 7., 7., 7.],\n",
       "       [7., 7., 7., 7., 7., 7., 7., 7., 7., 7.],\n",
       "       [7., 7., 7., 7., 7., 7., 7., 7., 7., 7.]])"
      ]
     },
     "execution_count": 4,
     "metadata": {},
     "output_type": "execute_result"
    }
   ],
   "source": [
    "M = np.ones([5,10]) * 7\n",
    "M"
   ]
  },
  {
   "cell_type": "markdown",
   "metadata": {},
   "source": [
    "2. Vectorize the following code"
   ]
  },
  {
   "cell_type": "code",
   "execution_count": 5,
   "metadata": {},
   "outputs": [],
   "source": [
    "rows, cols = 3, 4\n",
    "data = np.random.randint(10, size=(rows, cols))"
   ]
  },
  {
   "cell_type": "code",
   "execution_count": 6,
   "metadata": {},
   "outputs": [
    {
     "data": {
      "text/plain": [
       "array([[0, 0, 0, 0],\n",
       "       [0, 0, 0, 0],\n",
       "       [0, 0, 0, 0]])"
      ]
     },
     "execution_count": 6,
     "metadata": {},
     "output_type": "execute_result"
    }
   ],
   "source": [
    "for i in range(rows):\n",
    "    for j in range(cols):\n",
    "        if data[i][j] > 0:\n",
    "            data[i][j] = 0\n",
    "data"
   ]
  },
  {
   "cell_type": "code",
   "execution_count": 7,
   "metadata": {},
   "outputs": [
    {
     "data": {
      "text/plain": [
       "array([[0, 0, 0, 0],\n",
       "       [0, 0, 0, 0],\n",
       "       [0, 0, 0, 0]])"
      ]
     },
     "execution_count": 7,
     "metadata": {},
     "output_type": "execute_result"
    }
   ],
   "source": [
    "data[data > 0] = 0\n",
    "data"
   ]
  },
  {
   "cell_type": "markdown",
   "metadata": {},
   "source": [
    "3. Reverse an array"
   ]
  },
  {
   "cell_type": "code",
   "execution_count": 8,
   "metadata": {},
   "outputs": [
    {
     "name": "stdout",
     "output_type": "stream",
     "text": [
      "[9 8 7 6 5 4 3 2 1 0] [9 8 7 6 5 4 3 2 1 0]\n"
     ]
    }
   ],
   "source": [
    "a = np.arange(10)\n",
    "b = a[::-1]\n",
    "c = np.flipud(a)\n",
    "print(b,c)"
   ]
  },
  {
   "cell_type": "markdown",
   "metadata": {},
   "source": [
    "4. Obtain the mean of each column of a 2D array $x$. Ignore elements that are less than or equal to 0."
   ]
  },
  {
   "cell_type": "code",
   "execution_count": 9,
   "metadata": {},
   "outputs": [
    {
     "name": "stdout",
     "output_type": "stream",
     "text": [
      "[[ 2.  4.  5.]\n",
      " [-3.  8. -7.]\n",
      " [ 0.  6.  4.]\n",
      " [ 0.  3.  4.]]\n",
      "[[ True  True  True]\n",
      " [False  True False]\n",
      " [False  True  True]\n",
      " [False  True  True]]\n",
      "[[ 2.  4.  5.]\n",
      " [-0.  8. -0.]\n",
      " [ 0.  6.  4.]\n",
      " [ 0.  3.  4.]]\n",
      "[3.66666667 8.         5.         3.5       ]\n"
     ]
    }
   ],
   "source": [
    "a = np.array([[2, 4, 5], [-3, 8, -7], [0, 6, 4.0], [0, 3, 4]])\n",
    "mask = a > 0\n",
    "\n",
    "print(a)\n",
    "print(mask)\n",
    "\n",
    "col_sums = np.sum(a * mask, axis=1)\n",
    "counts = np.sum(mask, axis=1)\n",
    "\n",
    "print(a * mask)\n",
    "\n",
    "means = col_sums / counts\n",
    "print(means)\n"
   ]
  },
  {
   "cell_type": "markdown",
   "metadata": {},
   "source": [
    "5. Remove from a vector all the elements that are equal to the biggest element."
   ]
  },
  {
   "cell_type": "code",
   "execution_count": 10,
   "metadata": {},
   "outputs": [
    {
     "data": {
      "text/plain": [
       "array([0, 0, 3, 2, 5])"
      ]
     },
     "execution_count": 10,
     "metadata": {},
     "output_type": "execute_result"
    }
   ],
   "source": [
    "x = np.array([6, 0, 0, 3, 2, 5, 6])\n",
    "x_max = x.max()\n",
    "\n",
    "indexs = np.where(x == x_max)\n",
    "np.delete(x, indexs)\n"
   ]
  },
  {
   "cell_type": "markdown",
   "metadata": {},
   "source": [
    "6. A vector $x$ contains some 0s. Create $y$ such that $y[i]$ is 0 if $x[i]$ is 0, otherwise $y[i]$ is $log(x[i])$."
   ]
  },
  {
   "cell_type": "code",
   "execution_count": 11,
   "metadata": {},
   "outputs": [
    {
     "name": "stdout",
     "output_type": "stream",
     "text": [
      "[False  True  True False  True  True  True False False]\n",
      "[0.         0.69314718 1.09861229 0.         0.69314718 0.\n",
      " 1.09861229 0.         0.        ]\n"
     ]
    }
   ],
   "source": [
    "x = np.array([0, 2, 3, -4, 2, 1, 3, -1, -2])\n",
    "indexs = x > 0\n",
    "\n",
    "y = np.zeros(len(x))\n",
    "\n",
    "print(indexs)\n",
    "\n",
    "y[indexs] = np.log(x[indexs])\n",
    "print(y)\n"
   ]
  },
  {
   "cell_type": "markdown",
   "metadata": {},
   "source": [
    "7. Calculate the sum of the elements along the main diagonal of a square matrix M."
   ]
  },
  {
   "cell_type": "code",
   "execution_count": 12,
   "metadata": {},
   "outputs": [
    {
     "name": "stdout",
     "output_type": "stream",
     "text": [
      "4\n",
      "4\n"
     ]
    }
   ],
   "source": [
    "def diagonal_sum(M):\n",
    "    sum = 0\n",
    "    for i in range(len(M)):\n",
    "        sum += M[i,i]\n",
    "    return sum\n",
    "\n",
    "M = np.array([[1,2,3],[2,2,2],[3,2,1]])\n",
    "\n",
    "print(diagonal_sum(M))\n",
    "print(M.trace())\n"
   ]
  },
  {
   "cell_type": "markdown",
   "metadata": {},
   "source": [
    "8. Check if a matrix M is a lower, upper or diagonal triangular matrix."
   ]
  },
  {
   "cell_type": "code",
   "execution_count": 13,
   "metadata": {},
   "outputs": [
    {
     "name": "stdout",
     "output_type": "stream",
     "text": [
      "True\n",
      "True\n",
      "True\n"
     ]
    }
   ],
   "source": [
    "M = np.array([[1,0,0],[0,1,0],[0,0,1]])\n",
    "\n",
    "# check if lower triangular matrix\n",
    "res1 = np.allclose(M, np.tril(M))\n",
    "print(res1)\n",
    "\n",
    "# check if upper triangular matrix\n",
    "res2 = np.allclose(M, np.triu(M))\n",
    "print(res2)\n",
    "\n",
    "# check if diagonal triangular matrix\n",
    "res3 = np.allclose(M, np.diag(np.diag(M)))\n",
    "print(res3)"
   ]
  },
  {
   "cell_type": "markdown",
   "metadata": {},
   "source": [
    "9. Vectorize the following code"
   ]
  },
  {
   "cell_type": "code",
   "execution_count": 14,
   "metadata": {},
   "outputs": [],
   "source": [
    "def threshold_python(M, max_value, min_value):\n",
    "    n = M.shape[0]\n",
    "    m = M.shape[1]\n",
    "    for i in range(n):\n",
    "        for j in range(m):\n",
    "            c = M[i][j]\n",
    "            if c > max_value:\n",
    "                M[i][j] = max_value\n",
    "            elif c < min_value:\n",
    "                M[i][j] = min_value\n",
    "    return M\n",
    "\n",
    "\n",
    "def threshold_vector(M, max_value, min_value):\n",
    "    M[M > max_value] = max_value\n",
    "    M[M < min_value] = min_value\n",
    "    return M\n"
   ]
  },
  {
   "cell_type": "code",
   "execution_count": 15,
   "metadata": {},
   "outputs": [
    {
     "name": "stdout",
     "output_type": "stream",
     "text": [
      "[[2 2 2 2 4]\n",
      " [3 2 4 4 3]]\n",
      "[[2 2 2 2 4]\n",
      " [3 2 4 4 3]]\n"
     ]
    }
   ],
   "source": [
    "M = np.array([[1, 0, 0, 2, 4], [3, 2, 4, 6, 3]])\n",
    "tp1 = threshold_python(M, 4, 2)\n",
    "tp2 = threshold_vector(M, 4, 2)\n",
    "\n",
    "print(tp1)\n",
    "print(tp2)\n"
   ]
  },
  {
   "cell_type": "markdown",
   "metadata": {},
   "source": [
    "10. Vectorize the following code"
   ]
  },
  {
   "cell_type": "code",
   "execution_count": 16,
   "metadata": {},
   "outputs": [
    {
     "name": "stdout",
     "output_type": "stream",
     "text": [
      "[-2. -1.  0.  1.  2.]\n",
      "[ 4.  1.  0. -1. -2.]\n"
     ]
    }
   ],
   "source": [
    "x = np.linspace(-2., 2., 5)\n",
    "y = np.zeros(x.shape)\n",
    "\n",
    "for i in range(len(x)):\n",
    "    if x[i] <= 0.5:\n",
    "        y[i] = x[i]**2\n",
    "    else:\n",
    "        y[i] = -x[i]\n",
    "\n",
    "print(x)\n",
    "print(y)"
   ]
  },
  {
   "cell_type": "code",
   "execution_count": 17,
   "metadata": {},
   "outputs": [
    {
     "name": "stdout",
     "output_type": "stream",
     "text": [
      "[-2. -1.  0.  1.  2.]\n",
      "[ 4.  1.  0. -1. -2.]\n"
     ]
    }
   ],
   "source": [
    "x = np.linspace(-2., 2., 5)\n",
    "y = np.where(x <= 0.5, x**2, -x)\n",
    "\n",
    "print(x)\n",
    "print(y)"
   ]
  },
  {
   "cell_type": "markdown",
   "metadata": {},
   "source": [
    "11. Computation of $sin(x)$."
   ]
  },
  {
   "cell_type": "code",
   "execution_count": 18,
   "metadata": {},
   "outputs": [],
   "source": [
    "n = 10000000\n",
    "x = np.linspace(0, 1, n+1)"
   ]
  },
  {
   "cell_type": "code",
   "execution_count": 19,
   "metadata": {},
   "outputs": [
    {
     "name": "stdout",
     "output_type": "stream",
     "text": [
      "[0.00000000e+00 1.00000000e-07 2.00000000e-07 ... 8.41470877e-01\n",
      " 8.41470931e-01 8.41470985e-01]\n"
     ]
    }
   ],
   "source": [
    "# Non-vectorized version:\n",
    "def sin_func(x):\n",
    "    res = np.zeros_like(x)\n",
    "    for i in range(len(x)):\n",
    "        res[i] = np.sin(x[i])\n",
    "    return res\n",
    "\n",
    "y = sin_func(x)\n",
    "print(y)"
   ]
  },
  {
   "cell_type": "code",
   "execution_count": 20,
   "metadata": {},
   "outputs": [
    {
     "name": "stdout",
     "output_type": "stream",
     "text": [
      "[0.00000000e+00 1.00000000e-07 2.00000000e-07 ... 8.41470877e-01\n",
      " 8.41470931e-01 8.41470985e-01]\n"
     ]
    }
   ],
   "source": [
    "# Vectorized version:\n",
    "y = np.sin(x)\n",
    "print(y)"
   ]
  },
  {
   "cell_type": "markdown",
   "metadata": {},
   "source": [
    "12. Problem: sum up two lists of integers."
   ]
  },
  {
   "cell_type": "code",
   "execution_count": 21,
   "metadata": {},
   "outputs": [],
   "source": [
    "def add_python(Z1, Z2):\n",
    "    return [z1+z2 for (z1, z2) in zip(Z1, Z2)]\n",
    "\n",
    "\n",
    "def add_numpy(Z1, Z2):\n",
    "    return np.add(Z1, Z2)\n"
   ]
  },
  {
   "cell_type": "code",
   "execution_count": 22,
   "metadata": {},
   "outputs": [
    {
     "name": "stdout",
     "output_type": "stream",
     "text": [
      "[[1, 2], [3, 4], [5, 6], [7, 8]]\n",
      "[[1, 2, 5, 6], [3, 4, 7, 8]]\n",
      "[[ 6  8]\n",
      " [10 12]]\n"
     ]
    }
   ],
   "source": [
    "Z1 = [[1,2],[3,4]]\n",
    "Z2 = [[5,6],[7,8]]\n",
    "\n",
    "Z3 = Z1 + Z2\n",
    "Z4 = add_python(Z1, Z2)\n",
    "Z5 = add_numpy(Z1, Z2)\n",
    "\n",
    "print(Z3)\n",
    "print(Z4)\n",
    "print(Z5)"
   ]
  }
 ],
 "metadata": {
  "interpreter": {
   "hash": "8f026080efb2241e9bb1d83cd9b7378894cc07ca5791a3ecb7e0c716e7079b3c"
  },
  "kernelspec": {
   "display_name": "Python 3.9.7 ('.env': venv)",
   "language": "python",
   "name": "python3"
  },
  "language_info": {
   "codemirror_mode": {
    "name": "ipython",
    "version": 3
   },
   "file_extension": ".py",
   "mimetype": "text/x-python",
   "name": "python",
   "nbconvert_exporter": "python",
   "pygments_lexer": "ipython3",
   "version": "3.10.4"
  },
  "orig_nbformat": 4
 },
 "nbformat": 4,
 "nbformat_minor": 2
}
