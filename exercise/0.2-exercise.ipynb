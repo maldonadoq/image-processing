{
 "cells": [
  {
   "cell_type": "markdown",
   "metadata": {},
   "source": [
    "#### Esteganografia\n",
    "O objetivo deste trabalho ´e implementar um algoritmo de esteganografia em imagens digitais."
   ]
  },
  {
   "cell_type": "code",
   "execution_count": 1,
   "metadata": {},
   "outputs": [],
   "source": [
    "import numpy as np\n",
    "import cv2 as cv"
   ]
  },
  {
   "cell_type": "markdown",
   "metadata": {},
   "source": [
    "Variables"
   ]
  },
  {
   "cell_type": "code",
   "execution_count": 2,
   "metadata": {},
   "outputs": [],
   "source": [
    "path_image = \"./images/lena.png\"\n",
    "path_code = \"./image/code.png\"\n",
    "path_decode = \"./images/decode.png\"\n",
    "\n",
    "txt_init = \"Jesamin\"\n",
    "txt_decode = \"\"\n",
    "\n",
    "bit_plane = 0"
   ]
  },
  {
   "cell_type": "code",
   "execution_count": 3,
   "metadata": {},
   "outputs": [
    {
     "name": "stdout",
     "output_type": "stream",
     "text": [
      "98304 21000\n"
     ]
    }
   ],
   "source": [
    "def code(input, text, plane):\n",
    "    img = cv.imread(input, cv.IMREAD_COLOR)\n",
    "\n",
    "    n_max = (img.shape[0] * img.shape[1] * 3) // 8\n",
    "    print(n_max, len(text))\n",
    "    if len(text) > n_max:\n",
    "        raise ValueError(\"Insufficient bytes\")\n",
    "    return text\n",
    "    \n",
    "x = code(path_image, txt_init*3000, bit_plane)"
   ]
  },
  {
   "cell_type": "code",
   "execution_count": 4,
   "metadata": {},
   "outputs": [],
   "source": [
    "def decode(input, plane):\n",
    "    # read image in RGB channel\n",
    "    img = cv.imread(input, cv.IMREAD_COLOR)\n",
    "\n",
    "    # get k lsb\n",
    "    k = 1 << plane\n",
    "    bits = (img & k).ravel() // k\n",
    "\n",
    "    # flatten bits to bytes\n",
    "    bits = np.reshape(bits, (-1, 8))\n",
    "    values = [128, 64, 32, 16, 8, 4, 2, 1]\n",
    "    bytes = np.sum(bits * values, axis=1)\n",
    "\n",
    "    # make output\n",
    "    output = []\n",
    "    for b in bytes:\n",
    "        if b == 0:\n",
    "            break\n",
    "        output.append(chr(b))\n",
    "    return ''.join(output)"
   ]
  },
  {
   "cell_type": "code",
   "execution_count": 5,
   "metadata": {},
   "outputs": [
    {
     "name": "stdout",
     "output_type": "stream",
     "text": [
      "98304 7\n"
     ]
    },
    {
     "data": {
      "text/plain": [
       "'Jesamin'"
      ]
     },
     "execution_count": 5,
     "metadata": {},
     "output_type": "execute_result"
    }
   ],
   "source": [
    "# code texto into image\n",
    "code(path_image, txt_init, bit_plane)"
   ]
  },
  {
   "cell_type": "code",
   "execution_count": 6,
   "metadata": {},
   "outputs": [
    {
     "data": {
      "text/plain": [
       "'\\x92\\x91\\x0eÓ«\\x19ä\\x9eç\\x8e£]Ü5\\x1bë¤Cÿ\\x08\\x93Gx\\x15Õ¤h<\\n_\\x18\\x02jÀg¢ÛsENàât-Æ\\x1a±ÇvJw\\x8fþá¤!®ªÊon^º\\x98Í2\\x88¯ÞÓ©I·X3\\x83É0\\x98ðÓWï\\x0bÐJv~q#\\x9b%Nåã\\x7fÐädJ-å\\x85½\\x800¡\\x87úº\\x933DÒ\\x89\\x0cÈ<<AäÒ¦{²¼·ô\\x89\\x84\\x90\\x8cô;Iür»øâÿÝÃK<\\x9e\\x89$\\x9eû\\x0b\\x0f\\x99_D«s®ìÏ\\x9fJæCrÊ\\x1c\\x7fú5\\x19\\x0fW\\x08O®\\x10±¬Û~\\x0fÔçª\\x03\\x85\\x90§'"
      ]
     },
     "execution_count": 6,
     "metadata": {},
     "output_type": "execute_result"
    }
   ],
   "source": [
    "decode(path_image, 2)"
   ]
  },
  {
   "cell_type": "code",
   "execution_count": 7,
   "metadata": {},
   "outputs": [
    {
     "name": "stdout",
     "output_type": "stream",
     "text": [
      "125 1111101\n",
      "111110100\n",
      "11111 \n",
      "\n",
      "4 100\n",
      "4 100\n"
     ]
    }
   ],
   "source": [
    "a = 125\n",
    "b = 2\n",
    "print(a, '{0:b}'.format(a))\n",
    "print('{0:b}'.format(a << b))\n",
    "print('{0:b}'.format(a >> b), '\\n')\n",
    "c = 1 << b\n",
    "print(c, '{0:b}'.format(c))\n",
    "d = a & c\n",
    "print(d, '{0:b}'.format(d))"
   ]
  },
  {
   "cell_type": "code",
   "execution_count": null,
   "metadata": {},
   "outputs": [],
   "source": []
  }
 ],
 "metadata": {
  "interpreter": {
   "hash": "95323d2133e4e3f1cbd57a9debeac1e15881ff76b45df78246dced121ecd5040"
  },
  "kernelspec": {
   "display_name": "Python 3.9.7 ('.venv': venv)",
   "language": "python",
   "name": "python3"
  },
  "language_info": {
   "codemirror_mode": {
    "name": "ipython",
    "version": 3
   },
   "file_extension": ".py",
   "mimetype": "text/x-python",
   "name": "python",
   "nbconvert_exporter": "python",
   "pygments_lexer": "ipython3",
   "version": "3.9.7"
  },
  "orig_nbformat": 4
 },
 "nbformat": 4,
 "nbformat_minor": 2
}
