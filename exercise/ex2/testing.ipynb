{
 "cells": [
  {
   "cell_type": "code",
   "execution_count": 1,
   "metadata": {},
   "outputs": [],
   "source": [
    "import numpy as np\n",
    "import cv2 as cv"
   ]
  },
  {
   "cell_type": "code",
   "execution_count": 2,
   "metadata": {},
   "outputs": [],
   "source": [
    "FLOYD = 1/16 * np.array([\n",
    "    [0, 0, 7],\n",
    "    [3, 5, 1]\n",
    "])\n"
   ]
  },
  {
   "cell_type": "code",
   "execution_count": 3,
   "metadata": {},
   "outputs": [],
   "source": [
    "def stipple(img, error, zigzag):\n",
    "    # error distribution size\n",
    "    eX = error.shape[1] // 2\n",
    "    eY = error.shape[0] - 1\n",
    "\n",
    "    # add border and change array type to float\n",
    "    # f(x,y) image\n",
    "    img = cv.copyMakeBorder(img,\n",
    "                            top=0, bottom=eY,\n",
    "                            left=eX, right=eX,\n",
    "                            borderType=cv.BORDER_CONSTANT\n",
    "                            )\n",
    "    img = img.astype(float, copy=False)\n",
    "\n",
    "    # size for loop\n",
    "    dX = img.shape[1] - eX\n",
    "    dY = img.shape[0] - eY\n",
    "\n",
    "    # g(x,y) image\n",
    "    out = np.zeros(img.shape)\n",
    "\n",
    "    # reverse error\n",
    "    error_rev = np.fliplr(error)\n",
    "\n",
    "    for y in range(dY):\n",
    "        # reverse if is odd\n",
    "        reverse = (y % 2 == 1) if zigzag else False\n",
    "        error_curr = error_rev if reverse else error\n",
    "        \n",
    "        for x in range(eX, dX)[::-1 if reverse else 1]:\n",
    "            out[y, x] = 0 if img[y, x] < 128 else 255\n",
    "\n",
    "            diff = img[y, x] - out[y, x]\n",
    "            slice = img[y:y+eY+1, x-eX:x+eX+1]\n",
    "            slice += (error_curr * diff)\n",
    "\n",
    "    out = out[:dY, eX:dX]\n",
    "    return out\n"
   ]
  },
  {
   "cell_type": "code",
   "execution_count": 4,
   "metadata": {},
   "outputs": [
    {
     "name": "stdout",
     "output_type": "stream",
     "text": [
      "h:  180\n",
      "s:  256\n",
      "v:  256\n"
     ]
    },
    {
     "data": {
      "text/plain": [
       "True"
      ]
     },
     "execution_count": 4,
     "metadata": {},
     "output_type": "execute_result"
    }
   ],
   "source": [
    "inp_img = cv.imread('./images/baboon.png', cv.IMREAD_COLOR)\n",
    "\n",
    "b = set(inp_img[:,:,0].flatten())\n",
    "g = set(inp_img[:,:,1].flatten())\n",
    "r = set(inp_img[:,:,2].flatten())\n",
    "\n",
    "inp_img = cv.cvtColor(inp_img, cv.COLOR_BGR2HSV)\n",
    "\n",
    "h = set(inp_img[:,:,0].flatten())\n",
    "s = set(inp_img[:,:,1].flatten())\n",
    "v = set(inp_img[:,:,2].flatten())\n",
    "\n",
    "print('h: ', len(h))\n",
    "print('s: ', len(s))\n",
    "print('v: ', len(v))\n",
    "\n",
    "#out_img = np.zeros(inp_img.shape)\n",
    "out_img = np.copy(inp_img)\n",
    "\n",
    "out_img[:,:,2] = stipple(inp_img[:,:,2], FLOYD, True)\n",
    "\n",
    "out_img = cv.cvtColor(out_img, cv.COLOR_HSV2BGR)\n",
    "\n",
    "cv.imwrite('./images/baboon_test_floyd1_color.png', out_img)"
   ]
  }
 ],
 "metadata": {
  "interpreter": {
   "hash": "95323d2133e4e3f1cbd57a9debeac1e15881ff76b45df78246dced121ecd5040"
  },
  "kernelspec": {
   "display_name": "Python 3.9.7 ('.venv': venv)",
   "language": "python",
   "name": "python3"
  },
  "language_info": {
   "codemirror_mode": {
    "name": "ipython",
    "version": 3
   },
   "file_extension": ".py",
   "mimetype": "text/x-python",
   "name": "python",
   "nbconvert_exporter": "python",
   "pygments_lexer": "ipython3",
   "version": "3.9.7"
  },
  "orig_nbformat": 4
 },
 "nbformat": 4,
 "nbformat_minor": 2
}
