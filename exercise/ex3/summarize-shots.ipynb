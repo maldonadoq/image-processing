{
 "cells": [
  {
   "cell_type": "code",
   "execution_count": 1,
   "metadata": {},
   "outputs": [],
   "source": [
    "from matplotlib import pyplot as plt\n",
    "\n",
    "import numpy as np\n",
    "import cv2 as cv\n"
   ]
  },
  {
   "cell_type": "code",
   "execution_count": 2,
   "metadata": {},
   "outputs": [],
   "source": [
    "filename = './videos/gray/news.avi'"
   ]
  },
  {
   "cell_type": "code",
   "execution_count": 3,
   "metadata": {},
   "outputs": [],
   "source": [
    "def diff_pixels(frames, params):\n",
    "    difference = np.abs(frames[1:] - frames[:-1])\n",
    "    metrics = []\n",
    "\n",
    "    for diff in difference:\n",
    "        metrics.append(np.where(diff > params[0], 1, 0).sum())\n",
    "\n",
    "    return metrics\n"
   ]
  },
  {
   "cell_type": "code",
   "execution_count": 4,
   "metadata": {},
   "outputs": [],
   "source": [
    "def diff_blocks(frames, params):\n",
    "    rows, cols = frames.shape[2], frames.shape[2]\n",
    "\n",
    "    trows = rows // params[0]\n",
    "    tcols = cols // params[0]\n",
    "\n",
    "    frames = frames[:, :trows * params[0], :tcols * params[0]]\n",
    "    difference = np.abs(frames[1:] - frames[:-1])\n",
    "    difference = difference * difference\n",
    "\n",
    "\n",
    "    metrics = []\n",
    "    for diff in difference:\n",
    "        count = 0\n",
    "        blocks = diff.reshape(-1, tcols, params[0]).transpose(1,0, 2).reshape(-1, params[1])\n",
    "        for block in blocks:\n",
    "            root = np.sqrt(block.sum())\n",
    "            if root > params[2]:\n",
    "                count += 1\n",
    "        metrics.append(count)\n",
    "    return metrics\n"
   ]
  },
  {
   "cell_type": "code",
   "execution_count": 5,
   "metadata": {},
   "outputs": [],
   "source": [
    "def diff_histogram(frames, params):\n",
    "    total = frames.shape[0]\n",
    "    histograms = np.empty((total, 256))\n",
    "\n",
    "    for i in range(total):\n",
    "        hist, _ = np.histogram(frames[i], bins=256, range=(0, 255))\n",
    "        histograms[i] = hist\n",
    "\n",
    "    difference = np.abs(histograms[1:] - histograms[:-1])\n",
    "    metrics = np.sum(difference, axis=1)\n",
    "\n",
    "    return list(metrics)\n"
   ]
  },
  {
   "cell_type": "code",
   "execution_count": 6,
   "metadata": {},
   "outputs": [],
   "source": [
    "def get_metrics(file, shots_size, difference, params, dtype='int16'):\n",
    "    cap = cv.VideoCapture(file)\n",
    "\n",
    "    cols = int(cap.get(cv.CAP_PROP_FRAME_WIDTH))\n",
    "    rows = int(cap.get(cv.CAP_PROP_FRAME_HEIGHT))\n",
    "\n",
    "    shots = np.empty((shots_size + 1, rows, cols), dtype)\n",
    "    metrics = []\n",
    "\n",
    "    ret, frame = cap.read()\n",
    "    first_frame = frame[:,:,0]\n",
    "    count = 1\n",
    "\n",
    "    while(cap.isOpened()):\n",
    "        ret, frame = cap.read()\n",
    "        if ret:\n",
    "            gray_frame = frame[:,:,0]\n",
    "            if count > shots_size:\n",
    "                shots[0] = first_frame\n",
    "                first_frame = shots[-1].copy()\n",
    "\n",
    "                # process shots\n",
    "                metrics += difference(shots, params)\n",
    "\n",
    "                shots[1] = gray_frame\n",
    "                count = 2\n",
    "            else:\n",
    "                shots[count] = gray_frame\n",
    "                count += 1\n",
    "        else:\n",
    "            # process shots[:count,:,:]\n",
    "            shots[0] = first_frame\n",
    "            metrics += difference(shots[:count, :, :], params)\n",
    "            cap.release()\n",
    "            break\n",
    "\n",
    "    return metrics\n"
   ]
  },
  {
   "cell_type": "code",
   "execution_count": 7,
   "metadata": {},
   "outputs": [
    {
     "data": {
      "text/plain": [
       "' Y = np.array(get_metrics(filename, 512, diff_pixels, [128]))\\nX = range(len(Y))\\n\\nplt.figure(figsize=(25,10))\\nplt.plot(X, Y) '"
      ]
     },
     "execution_count": 7,
     "metadata": {},
     "output_type": "execute_result"
    }
   ],
   "source": [
    "\"\"\" Y = np.array(get_metrics(filename, 512, diff_pixels, [128]))\n",
    "X = range(len(Y))\n",
    "\n",
    "plt.figure(figsize=(25,10))\n",
    "plt.plot(X, Y) \"\"\""
   ]
  },
  {
   "cell_type": "code",
   "execution_count": 8,
   "metadata": {},
   "outputs": [
    {
     "data": {
      "text/plain": [
       "\" Y = np.array(get_metrics(filename, 512, diff_blocks, [8, 64, 128], 'int32'))\\nX = range(len(Y))\\n\\nplt.figure(figsize=(25, 10))\\nplt.plot(X, Y)\\n \""
      ]
     },
     "execution_count": 8,
     "metadata": {},
     "output_type": "execute_result"
    }
   ],
   "source": [
    "\"\"\" Y = np.array(get_metrics(filename, 512, diff_blocks, [8, 64, 128], 'int32'))\n",
    "X = range(len(Y))\n",
    "\n",
    "plt.figure(figsize=(25, 10))\n",
    "plt.plot(X, Y)\n",
    " \"\"\""
   ]
  },
  {
   "cell_type": "code",
   "execution_count": 9,
   "metadata": {},
   "outputs": [
    {
     "data": {
      "text/plain": [
       "\" Y = np.array(get_metrics(filename, 64, diff_histogram, [8, 64, 128], 'int32'))\\nX = range(len(Y))\\n\\nplt.figure(figsize=(25, 10))\\nplt.plot(X, Y)\\n \""
      ]
     },
     "execution_count": 9,
     "metadata": {},
     "output_type": "execute_result"
    }
   ],
   "source": [
    "\"\"\" Y = np.array(get_metrics(filename, 64, diff_histogram, [8, 64, 128], 'int32'))\n",
    "X = range(len(Y))\n",
    "\n",
    "plt.figure(figsize=(25, 10))\n",
    "plt.plot(X, Y)\n",
    " \"\"\""
   ]
  }
 ],
 "metadata": {
  "interpreter": {
   "hash": "95323d2133e4e3f1cbd57a9debeac1e15881ff76b45df78246dced121ecd5040"
  },
  "kernelspec": {
   "display_name": "Python 3.10.4 ('.venv': venv)",
   "language": "python",
   "name": "python3"
  },
  "language_info": {
   "codemirror_mode": {
    "name": "ipython",
    "version": 3
   },
   "file_extension": ".py",
   "mimetype": "text/x-python",
   "name": "python",
   "nbconvert_exporter": "python",
   "pygments_lexer": "ipython3",
   "version": "3.10.4"
  },
  "orig_nbformat": 4
 },
 "nbformat": 4,
 "nbformat_minor": 2
}
