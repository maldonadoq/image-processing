{
 "cells": [
  {
   "cell_type": "code",
   "execution_count": null,
   "metadata": {},
   "outputs": [],
   "source": [
    "from matplotlib import pyplot as plt\n",
    "\n",
    "import numpy as np\n",
    "import cv2 as cv"
   ]
  },
  {
   "cell_type": "code",
   "execution_count": null,
   "metadata": {},
   "outputs": [],
   "source": [
    "filename = './videos/gray/news.avi'"
   ]
  },
  {
   "cell_type": "code",
   "execution_count": null,
   "metadata": {},
   "outputs": [],
   "source": [
    "def diff_pixels(frameA, frameB, params):\n",
    "    diff = np.abs(frameA - frameB)\n",
    "    return np.where(diff > params[0], 1, 0).sum()\n"
   ]
  },
  {
   "cell_type": "code",
   "execution_count": null,
   "metadata": {},
   "outputs": [],
   "source": [
    "def diff_blocks(frameA, frameB, params):\n",
    "    diff = np.abs(frameA - frameB)\n",
    "    diff = diff * diff\n",
    "\n",
    "    count = 0\n",
    "    for row in range(0, frameA.shape[0], params[0]):\n",
    "        for col in range(0, frameA.shape[1], params[0]):\n",
    "            root = np.sqrt(diff[row:row+params[0], col:col+params[0]].sum())\n",
    "            if root > params[1]:\n",
    "                count += 1\n",
    "\n",
    "    return count\n"
   ]
  },
  {
   "cell_type": "code",
   "execution_count": null,
   "metadata": {},
   "outputs": [],
   "source": [
    "def normalize(img_in):\n",
    "    img_out = np.zeros(img_in.shape, dtype=\"uint8\")\n",
    "\n",
    "    tmin = img_in.min()\n",
    "    tmax = img_in.max()\n",
    "\n",
    "    tsize = abs(tmax - tmin)\n",
    "    img_out = ((img_in - tmin) * 255) // tsize\n",
    "    return img_out\n",
    "\n",
    "\n",
    "def sobelX(img_in):\n",
    "    res_h = img_in[:, 2:] - img_in[:, :-2]\n",
    "    res_v = res_h[:-2] + res_h[2:] + 2*res_h[1:-1]\n",
    "    return np.abs(res_v)\n",
    "\n",
    "\n",
    "def sobelY(img_in):\n",
    "    img = img_in.transpose()\n",
    "    res_h = img[:, 2:] - img[:, :-2]\n",
    "    res_v = res_h[:-2] + res_h[2:] + 2*res_h[1:-1]\n",
    "    return np.abs(res_v.transpose())\n",
    "\n",
    "\n",
    "def sobel(img):\n",
    "    img = img.astype('int16')\n",
    "    out = np.zeros(img.shape, int)\n",
    "    x = sobelX(img)\n",
    "    y = sobelY(img)\n",
    "\n",
    "    out[1:-1, 1:-1] = x + y\n",
    "\n",
    "    return out\n",
    "\n",
    "\n",
    "def diff_edges(frameA, frameB, params):\n",
    "    maskA = normalize(sobel(frameA))\n",
    "    return (maskA > 128).sum()\n"
   ]
  },
  {
   "cell_type": "code",
   "execution_count": null,
   "metadata": {},
   "outputs": [],
   "source": [
    "def diff_histogram(frameA, frameB, params):\n",
    "    histA, _ = np.histogram(frameA, bins=256, range=(0, 255))\n",
    "    histB, _ = np.histogram(frameB, bins=256, range=(0, 255))\n",
    "\n",
    "    return np.abs(histA-histB).sum()\n"
   ]
  },
  {
   "cell_type": "code",
   "execution_count": null,
   "metadata": {},
   "outputs": [],
   "source": [
    "def get_metrics(file, difference, params, dtype='int16'):\n",
    "    cap = cv.VideoCapture(file)\n",
    "\n",
    "    metrics = []\n",
    "\n",
    "    ret, frame = cap.read()\n",
    "\n",
    "    old_frame = frame[:, :, 0].astype(dtype)\n",
    "    while(cap.isOpened()):\n",
    "        ret, frame = cap.read()\n",
    "        if ret:\n",
    "            gray_frame = frame[:, :, 0].astype(dtype)\n",
    "            metrics.append(difference(gray_frame, old_frame, params))\n",
    "            old_frame = gray_frame\n",
    "        else:\n",
    "            cap.release()\n",
    "            break\n",
    "\n",
    "    return metrics\n"
   ]
  },
  {
   "cell_type": "code",
   "execution_count": null,
   "metadata": {},
   "outputs": [],
   "source": [
    "Y = np.array(get_metrics(filename, diff_pixels, [128]))\n",
    "X = range(len(Y))\n",
    "\n",
    "plt.figure(figsize=(25,10))\n",
    "plt.plot(X, Y)"
   ]
  },
  {
   "cell_type": "code",
   "execution_count": null,
   "metadata": {},
   "outputs": [],
   "source": [
    "Y = np.array(get_metrics(filename,diff_blocks, [8, 64, 128], 'int32'))\n",
    "X = range(len(Y))\n",
    "\n",
    "plt.figure(figsize=(25, 10))\n",
    "plt.plot(X, Y)"
   ]
  },
  {
   "cell_type": "code",
   "execution_count": null,
   "metadata": {},
   "outputs": [],
   "source": [
    "Y = np.array(get_metrics(filename,diff_histogram, []))\n",
    "X = range(len(Y))\n",
    "\n",
    "plt.figure(figsize=(25, 10))\n",
    "plt.plot(X, Y)"
   ]
  },
  {
   "cell_type": "code",
   "execution_count": null,
   "metadata": {},
   "outputs": [],
   "source": [
    "Y = np.array(get_metrics(filename, diff_edges, []))\n",
    "X = range(len(Y))\n",
    "\n",
    "plt.figure(figsize=(25, 10))\n",
    "plt.plot(X, Y)\n"
   ]
  }
 ],
 "metadata": {
  "interpreter": {
   "hash": "95323d2133e4e3f1cbd57a9debeac1e15881ff76b45df78246dced121ecd5040"
  },
  "kernelspec": {
   "display_name": "Python 3.10.4 ('.venv': venv)",
   "language": "python",
   "name": "python3"
  },
  "language_info": {
   "codemirror_mode": {
    "name": "ipython",
    "version": 3
   },
   "file_extension": ".py",
   "mimetype": "text/x-python",
   "name": "python",
   "nbconvert_exporter": "python",
   "pygments_lexer": "ipython3",
   "version": "3.10.4"
  },
  "orig_nbformat": 4
 },
 "nbformat": 4,
 "nbformat_minor": 2
}
