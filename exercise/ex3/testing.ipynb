{
 "cells": [
  {
   "cell_type": "markdown",
   "metadata": {},
   "source": [
    "##### Reading video files with OpenCV"
   ]
  },
  {
   "cell_type": "code",
   "execution_count": null,
   "metadata": {},
   "outputs": [],
   "source": [
    "from matplotlib import pyplot as plt\n",
    "\n",
    "import numpy as np\n",
    "import cv2 as cv"
   ]
  },
  {
   "cell_type": "code",
   "execution_count": null,
   "metadata": {},
   "outputs": [],
   "source": [
    "file = './videos/news.mpg'"
   ]
  },
  {
   "cell_type": "code",
   "execution_count": null,
   "metadata": {},
   "outputs": [],
   "source": [
    "def get_video_info(file):\n",
    "    count = 0\n",
    "    cap = cv.VideoCapture(file)\n",
    "    width = int(cap.get(cv.CAP_PROP_FRAME_WIDTH))\n",
    "    height = int(cap.get(cv.CAP_PROP_FRAME_HEIGHT))\n",
    "    while(cap.isOpened()):\n",
    "        ret, _ = cap.read()\n",
    "        if ret:\n",
    "            count += 1\n",
    "        else:\n",
    "            cap.release()\n",
    "            break\n",
    "\n",
    "    return (count, height, width)\n"
   ]
  },
  {
   "cell_type": "code",
   "execution_count": null,
   "metadata": {},
   "outputs": [],
   "source": [
    "def get_frames(file, shape):\n",
    "    frames = np.empty(shape, dtype='uint8')\n",
    "    index = 0\n",
    "\n",
    "    cap = cv.VideoCapture(file)\n",
    "    while(cap.isOpened()):\n",
    "        ret, frame = cap.read()\n",
    "        if ret:\n",
    "            frames[index] = cv.cvtColor(frame, cv.COLOR_BGR2GRAY)\n",
    "            index += 1\n",
    "        else:\n",
    "            cap.release()\n",
    "            break\n",
    "\n",
    "    return frames\n"
   ]
  },
  {
   "cell_type": "code",
   "execution_count": null,
   "metadata": {},
   "outputs": [],
   "source": [
    "shape = get_video_info(file)\n",
    "frames = get_frames(file, shape)"
   ]
  },
  {
   "cell_type": "code",
   "execution_count": null,
   "metadata": {},
   "outputs": [],
   "source": [
    "def show_frames(frames, number):\n",
    "    plt.figure(figsize=(20, 20))\n",
    "\n",
    "    cols = 5\n",
    "    rows = (number // cols) + 1\n",
    "\n",
    "    index = 0\n",
    "    incr = frames.shape[0] // number\n",
    "    for row in range(rows):\n",
    "        for col in range(cols):\n",
    "            if(index < incr*number):\n",
    "                plt.subplot(rows, cols, (row*cols) + col + 1)\n",
    "                plt.axis('off')\n",
    "                plt.imshow(frames[index], cmap='gray')\n",
    "                index += incr\n",
    "\n",
    "        plt.subplots_adjust(wspace=0.1, hspace=0.1)\n"
   ]
  },
  {
   "cell_type": "code",
   "execution_count": null,
   "metadata": {},
   "outputs": [],
   "source": [
    "show_frames(frames, 15)"
   ]
  },
  {
   "cell_type": "code",
   "execution_count": null,
   "metadata": {},
   "outputs": [],
   "source": [
    "def difference_pixels(frames, threshold=128):\n",
    "    difference = abs(frames[1:] - frames[:-1])\n",
    "    metrics = []\n",
    "\n",
    "    for diff in difference:\n",
    "        metrics.append(np.where(diff > threshold, 1, 0).sum())\n",
    "\n",
    "    return metrics\n"
   ]
  },
  {
   "cell_type": "code",
   "execution_count": null,
   "metadata": {},
   "outputs": [],
   "source": [
    "Y = difference_pixels(frames, 128)\n",
    "X = range(len(Y))\n",
    "\n",
    "plt.figure(figsize=(25,10))\n",
    "plt.plot(X, Y)"
   ]
  },
  {
   "cell_type": "code",
   "execution_count": null,
   "metadata": {},
   "outputs": [],
   "source": [
    "def difference_blocks(frames, size, threshold=128):\n",
    "    rows = frames.shape[1]\n",
    "    cols = frames.shape[2]\n",
    "\n",
    "    trows = rows // size\n",
    "    tcols = cols // size\n",
    "\n",
    "    frames = frames[:, :trows * size, :tcols * size]\n",
    "    difference = abs(frames[1:] - frames[:-1])\n",
    "\n",
    "    block_size = size * size\n",
    "\n",
    "    for diff in difference:\n",
    "        blocks = diff.reshape(-1, tcols, size).transpose(1,\n",
    "                                                         0, 2).reshape(-1, block_size)\n",
    "\n",
    "        for block in blocks:\n",
    "            a = np.where(block > threshold, 1, 0).sum()\n",
    "    return diff\n"
   ]
  },
  {
   "cell_type": "code",
   "execution_count": null,
   "metadata": {},
   "outputs": [],
   "source": [
    "difference_blocks(frames, 8)"
   ]
  }
 ],
 "metadata": {
  "interpreter": {
   "hash": "95323d2133e4e3f1cbd57a9debeac1e15881ff76b45df78246dced121ecd5040"
  },
  "kernelspec": {
   "display_name": "Python 3.9.7 ('.venv': venv)",
   "language": "python",
   "name": "python3"
  },
  "language_info": {
   "codemirror_mode": {
    "name": "ipython",
    "version": 3
   },
   "file_extension": ".py",
   "mimetype": "text/x-python",
   "name": "python",
   "nbconvert_exporter": "python",
   "pygments_lexer": "ipython3",
   "version": "3.10.4"
  },
  "orig_nbformat": 4
 },
 "nbformat": 4,
 "nbformat_minor": 2
}
