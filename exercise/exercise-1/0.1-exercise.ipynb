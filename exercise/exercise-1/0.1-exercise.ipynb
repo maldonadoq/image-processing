{
 "cells": [
  {
   "cell_type": "markdown",
   "metadata": {},
   "source": [
    "#### Esteganografia\n",
    "O objetivo deste trabalho ´e implementar um algoritmo de esteganografia em imagens digitais."
   ]
  },
  {
   "cell_type": "code",
   "execution_count": 1,
   "metadata": {},
   "outputs": [],
   "source": [
    "import numpy as np\n",
    "import cv2 as cv"
   ]
  },
  {
   "cell_type": "markdown",
   "metadata": {},
   "source": [
    "Variables"
   ]
  },
  {
   "cell_type": "code",
   "execution_count": 2,
   "metadata": {},
   "outputs": [],
   "source": [
    "file_image = \"./images/baboon\"\n",
    "file_ext = \".png\"\n",
    "text_init = \"Jesamin\"\n",
    "bit_plane = 0"
   ]
  },
  {
   "cell_type": "code",
   "execution_count": 3,
   "metadata": {},
   "outputs": [],
   "source": [
    "def code(input, extension, text, plane):\n",
    "    img = cv.imread(input + extension, cv.IMREAD_COLOR)\n",
    "\n",
    "    text += chr(0)\n",
    "    max = (img.shape[0] * img.shape[1] * 3) // 8\n",
    "    if len(text) > max:\n",
    "        raise ValueError(\"Insufficient bytes\")\n",
    "\n",
    "    ascii = np.frombuffer(text.encode(), 'S1').view(np.uint8)\n",
    "    bits = np.unpackbits(ascii)\n",
    "\n",
    "    out_img = img.ravel()\n",
    "    out_txt = out_img[:len(bits)]\n",
    "\n",
    "    # I can set 1 using x = x | pos or x = x & ~pos\n",
    "    mask_a = 1 << plane\n",
    "    mask_b = ~mask_a\n",
    "    out_img[:len(bits)] = np.where(bits, mask_a | out_txt, mask_b & out_txt)\n",
    "\n",
    "    output = out_img.reshape(img.shape)\n",
    "    cv.imwrite(input + \"_encode\" + extension, output)\n",
    "    \n"
   ]
  },
  {
   "cell_type": "code",
   "execution_count": 4,
   "metadata": {},
   "outputs": [
    {
     "name": "stdout",
     "output_type": "stream",
     "text": [
      "63 111111\n",
      "62 111110\n",
      "62 111110\n",
      "62 111110\n",
      "59 111011 \n",
      "\n",
      "1000\n",
      "1000\n",
      "1000000\n",
      "-1000001\n",
      "-1000001\n"
     ]
    }
   ],
   "source": [
    "a = 63\n",
    "k = 2\n",
    "b = 0\n",
    "\n",
    "c = a & ~1\n",
    "d = c | b\n",
    "e = (a & ~1) | b\n",
    "\n",
    "f = (a & ~(1 << k)) | (b << k)\n",
    "\n",
    "print(a, '{0:b}'.format(a))\n",
    "print(c, '{0:b}'.format(c))\n",
    "print(d, '{0:b}'.format(d))\n",
    "print(e, '{0:b}'.format(e))\n",
    "print(f, '{0:b}'.format(f), '\\n')\n",
    "\n",
    "ls = 3\n",
    "print('{0:b}'.format(1 << ls))\n",
    "print('{0:b}'.format(np.left_shift(1, ls)))\n",
    "\n",
    "inv = 64\n",
    "print('{0:b}'.format(inv))\n",
    "print('{0:b}'.format(np.invert(inv)))\n",
    "print('{0:b}'.format(~inv))\n"
   ]
  },
  {
   "cell_type": "code",
   "execution_count": 5,
   "metadata": {},
   "outputs": [],
   "source": [
    "def decode(input, plane):\n",
    "    # read image in RGB channel\n",
    "    img = cv.imread(input, cv.IMREAD_COLOR)\n",
    "\n",
    "    # get k lsb\n",
    "    k = 1 << plane\n",
    "    bits = (img & k).ravel() // k\n",
    "\n",
    "    # flatten bits to bytes\n",
    "    bits = np.reshape(bits, (-1, 8))\n",
    "    values = [128, 64, 32, 16, 8, 4, 2, 1]\n",
    "    bytes = np.sum(bits * values, axis=1)\n",
    "\n",
    "    # make output\n",
    "    output = []\n",
    "    for b in bytes:\n",
    "        if b == 0:\n",
    "            break\n",
    "        output.append(chr(b))\n",
    "    return ''.join(output)"
   ]
  },
  {
   "cell_type": "code",
   "execution_count": 6,
   "metadata": {},
   "outputs": [],
   "source": [
    "# code texto into image\n",
    "code(file_image, file_ext, text_init*10, bit_plane)"
   ]
  },
  {
   "cell_type": "code",
   "execution_count": 7,
   "metadata": {},
   "outputs": [
    {
     "data": {
      "text/plain": [
       "'JesaminJesaminJesaminJesaminJesaminJesaminJesaminJesaminJesaminJesamin'"
      ]
     },
     "execution_count": 7,
     "metadata": {},
     "output_type": "execute_result"
    }
   ],
   "source": [
    "decode(file_image + \"_encode\" + file_ext, bit_plane)"
   ]
  }
 ],
 "metadata": {
  "interpreter": {
   "hash": "95323d2133e4e3f1cbd57a9debeac1e15881ff76b45df78246dced121ecd5040"
  },
  "kernelspec": {
   "display_name": "Python 3.9.7 ('.venv': venv)",
   "language": "python",
   "name": "python3"
  },
  "language_info": {
   "codemirror_mode": {
    "name": "ipython",
    "version": 3
   },
   "file_extension": ".py",
   "mimetype": "text/x-python",
   "name": "python",
   "nbconvert_exporter": "python",
   "pygments_lexer": "ipython3",
   "version": "3.9.7"
  },
  "orig_nbformat": 4
 },
 "nbformat": 4,
 "nbformat_minor": 2
}
